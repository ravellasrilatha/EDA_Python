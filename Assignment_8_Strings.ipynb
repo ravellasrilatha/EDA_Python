{
 "cells": [
  {
   "cell_type": "code",
   "execution_count": 10,
   "id": "20464526-4c7e-49dd-aa26-f21d0543fc14",
   "metadata": {},
   "outputs": [
    {
     "name": "stdout",
     "output_type": "stream",
     "text": [
      "positive index of p is 0\n",
      "positive index of y is 1\n",
      "positive index of t is 2\n",
      "positive index of h is 3\n",
      "positive index of o is 4\n",
      "positive index of n is 5\n",
      "positive index of   is 6\n",
      "positive index of l is 7\n",
      "positive index of a is 8\n",
      "positive index of n is 9\n",
      "positive index of g is 10\n",
      "positive index of u is 11\n",
      "positive index of a is 12\n",
      "positive index of g is 13\n",
      "positive index of e is 14\n"
     ]
    }
   ],
   "source": [
    "# Q1) Print the postive index of each letter\n",
    "\n",
    "str1='python language'\n",
    "for i in range(len(str1)):\n",
    "    print(f\"positive index of {str1[i]} is {i}\")"
   ]
  },
  {
   "cell_type": "code",
   "execution_count": 13,
   "id": "54ac49ec-34e8-4e0f-9d25-f96750d5daa4",
   "metadata": {},
   "outputs": [
    {
     "name": "stdout",
     "output_type": "stream",
     "text": [
      "negative index of p is -15\n",
      "negative index of y is -14\n",
      "negative index of t is -13\n",
      "negative index of h is -12\n",
      "negative index of o is -11\n",
      "negative index of n is -10\n",
      "negative index of   is -9\n",
      "negative index of l is -8\n",
      "negative index of a is -7\n",
      "negative index of n is -6\n",
      "negative index of g is -5\n",
      "negative index of u is -4\n",
      "negative index of a is -3\n",
      "negative index of g is -2\n",
      "negative index of e is -1\n"
     ]
    }
   ],
   "source": [
    "# Q2) Print the negative index of each letter\n",
    "\n",
    "str1='python language'\n",
    "for i in range(len(str1)):\n",
    "    print(f\"negative index of {str1[i]} is {i-len(str1)}\")"
   ]
  },
  {
   "cell_type": "code",
   "execution_count": 15,
   "id": "37bea14a-a574-4271-a258-a0b1ad060112",
   "metadata": {},
   "outputs": [
    {
     "name": "stdout",
     "output_type": "stream",
     "text": [
      "positive index of p is 0 and negative index of p is -15 \n",
      "positive index of y is 1 and negative index of y is -14 \n",
      "positive index of t is 2 and negative index of t is -13 \n",
      "positive index of h is 3 and negative index of h is -12 \n",
      "positive index of o is 4 and negative index of o is -11 \n",
      "positive index of n is 5 and negative index of n is -10 \n",
      "positive index of   is 6 and negative index of   is -9 \n",
      "positive index of l is 7 and negative index of l is -8 \n",
      "positive index of a is 8 and negative index of a is -7 \n",
      "positive index of n is 9 and negative index of n is -6 \n",
      "positive index of g is 10 and negative index of g is -5 \n",
      "positive index of u is 11 and negative index of u is -4 \n",
      "positive index of a is 12 and negative index of a is -3 \n",
      "positive index of g is 13 and negative index of g is -2 \n",
      "positive index of e is 14 and negative index of e is -1 \n"
     ]
    }
   ],
   "source": [
    "# Q3) Print the postive and negative index of each letter\n",
    "\n",
    "str1='python language'\n",
    "for i in range(len(str1)):\n",
    "    print(f\"positive index of {str1[i]} is {i} and negative index of {str1[i]} is {i-len(str1)} \")"
   ]
  },
  {
   "cell_type": "code",
   "execution_count": 21,
   "id": "9ba61f48-6df1-4fe5-ae3f-4ce0e6db55ee",
   "metadata": {},
   "outputs": [
    {
     "name": "stdout",
     "output_type": "stream",
     "text": [
      "8\n",
      "12\n"
     ]
    }
   ],
   "source": [
    "# Q4) Wap ask to print the index of all 'a'  in a given string\n",
    "\n",
    "str1='python language'\n",
    "for i in range(len(str1)):\n",
    "    if str1[i]=='a':\n",
    "        print(i)\n",
    "    "
   ]
  },
  {
   "cell_type": "code",
   "execution_count": 29,
   "id": "d4f83481-7620-4454-8690-d0f7293755de",
   "metadata": {},
   "outputs": [
    {
     "name": "stdout",
     "output_type": "stream",
     "text": [
      "a\n",
      "a\n",
      "2\n"
     ]
    }
   ],
   "source": [
    "# Q5) Wap ask to print the number of 'a's  in a given string\n",
    "\n",
    "count=0\n",
    "str1='python language'\n",
    "for i in str1:\n",
    "    if i=='a':\n",
    "        print(i)\n",
    "        count=count+1\n",
    "print(count)\n",
    "\n"
   ]
  },
  {
   "cell_type": "code",
   "execution_count": 40,
   "id": "6e418d40-5088-4cc3-b433-0dd922e6177f",
   "metadata": {},
   "outputs": [
    {
     "name": "stdout",
     "output_type": "stream",
     "text": [
      "The  sum  of indexes of all 'a'  is 20\n"
     ]
    }
   ],
   "source": [
    "# Q6) Wap ask to print the sum of the index of all 'a'  in a given string\n",
    "\n",
    "summ=0\n",
    "str1='python language'\n",
    "for i in range(len(str1)):\n",
    "    if str1[i]=='a':\n",
    "        summ=summ+i\n",
    "print(f\"The  sum  of indexes of all 'a'  is {summ}\")"
   ]
  },
  {
   "cell_type": "code",
   "execution_count": 43,
   "id": "e3a03835-45bf-4500-a01f-2dc815bb73c7",
   "metadata": {},
   "outputs": [
    {
     "name": "stdout",
     "output_type": "stream",
     "text": [
      "o a u a e "
     ]
    }
   ],
   "source": [
    "# Q7) Wap to find the vowels in a given string\n",
    "\n",
    "str1='python language'\n",
    "for i in range(len(str1)):\n",
    "    if str1[i]in'aeiou':\n",
    "        print(str1[i], end=' ')\n",
    "    "
   ]
  },
  {
   "cell_type": "code",
   "execution_count": 47,
   "id": "7499f536-bf27-478e-9637-886f3827af0b",
   "metadata": {},
   "outputs": [
    {
     "name": "stdout",
     "output_type": "stream",
     "text": [
      "5\n"
     ]
    }
   ],
   "source": [
    "# Q8) wap to find the number of vowels in a given string\n",
    "\n",
    "count=0\n",
    "str1='python language'\n",
    "for i in range(len(str1)):\n",
    "    if str1[i]in'aeiou':\n",
    "        count=count+1\n",
    "print(count)"
   ]
  },
  {
   "cell_type": "code",
   "execution_count": 49,
   "id": "93b76386-7270-4491-ab3a-581e39d1ad82",
   "metadata": {},
   "outputs": [
    {
     "name": "stdout",
     "output_type": "stream",
     "text": [
      "indexes of o is 4\n",
      "indexes of a is 8\n",
      "indexes of u is 11\n",
      "indexes of a is 12\n",
      "indexes of e is 14\n"
     ]
    }
   ],
   "source": [
    "# Q9) wap to find the indexes of vowels in a given string\n",
    "\n",
    "str1='python language'\n",
    "for i in range(len(str1)):\n",
    "    if str1[i]in'aeiou':\n",
    "        print(f\"indexes of {str1[i]} is {i}\")"
   ]
  },
  {
   "cell_type": "code",
   "execution_count": 62,
   "id": "2d3bbd13-f09c-4931-a3b4-635b8756ad6f",
   "metadata": {},
   "outputs": [
    {
     "name": "stdout",
     "output_type": "stream",
     "text": [
      "The  sum  of indexes is 49\n"
     ]
    }
   ],
   "source": [
    "# Q10) wap to find the sum of the indexes of vowels in a given string\n",
    "\n",
    "summ=0\n",
    "str1='python language'\n",
    "for i in range(len(str1)):\n",
    "    if str1[i] in'aeiou':\n",
    "        summ=summ+i\n",
    "print(f\"The  sum  of indexes is {summ}\")"
   ]
  },
  {
   "cell_type": "code",
   "execution_count": 3,
   "id": "8a8b0699-b4cc-4c27-b04c-e8044cdb3b3a",
   "metadata": {},
   "outputs": [
    {
     "name": "stdout",
     "output_type": "stream",
     "text": [
      "unique vowels in the string: ['o', 'a', 'u', 'e']\n"
     ]
    }
   ],
   "source": [
    "# Q11) wap to find the unique vowels in a given string\n",
    "\n",
    "str1='python language'\n",
    "unique_vowels = []\n",
    "\n",
    "for i in range(len(str1)):\n",
    "    if str1[i] in 'aeiou':\n",
    "        if str1[i] not in unique_vowels:\n",
    "            unique_vowels.append(str1[i])\n",
    "print(\"unique vowels in the string:\", unique_vowels)\n"
   ]
  },
  {
   "cell_type": "code",
   "execution_count": null,
   "id": "a81aaeb2-bbc2-46e8-bcae-941b234f571d",
   "metadata": {},
   "outputs": [],
   "source": []
  }
 ],
 "metadata": {
  "kernelspec": {
   "display_name": "Python 3 (ipykernel)",
   "language": "python",
   "name": "python3"
  },
  "language_info": {
   "codemirror_mode": {
    "name": "ipython",
    "version": 3
   },
   "file_extension": ".py",
   "mimetype": "text/x-python",
   "name": "python",
   "nbconvert_exporter": "python",
   "pygments_lexer": "ipython3",
   "version": "3.11.7"
  }
 },
 "nbformat": 4,
 "nbformat_minor": 5
}
