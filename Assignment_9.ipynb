{
 "cells": [
  {
   "cell_type": "code",
   "execution_count": null,
   "id": "4773f8eb-da7e-4029-a6bc-086aa565b68d",
   "metadata": {},
   "outputs": [],
   "source": [
    "\n",
    "'isalnum',\n",
    " 'isalpha',\n",
    " 'isascii',\n",
    " 'isdecimal',\n",
    " 'isdigit',\n",
    " 'isidentifier',\n",
    " 'islower',\n",
    " 'isnumeric',\n",
    " 'isprintable',\n",
    " 'isspace',\n",
    " 'istitle',\n",
    " 'isupper',"
   ]
  },
  {
   "cell_type": "markdown",
   "id": "5a59b17a-82a4-400f-89b0-1dc3eb179206",
   "metadata": {},
   "source": [
    "**isalnum**\n",
    "\n",
    "- isalnum means it can execute both upper and lower case alphabets and numericals"
   ]
  },
  {
   "cell_type": "code",
   "execution_count": 1,
   "id": "6901550e-d408-4ebe-898c-d745a94d2196",
   "metadata": {},
   "outputs": [
    {
     "data": {
      "text/plain": [
       "True"
      ]
     },
     "execution_count": 1,
     "metadata": {},
     "output_type": "execute_result"
    }
   ],
   "source": [
    "'abc123'.isalnum()"
   ]
  },
  {
   "cell_type": "code",
   "execution_count": 2,
   "id": "d589953c-1d4f-4549-964b-9ce8ba6cd516",
   "metadata": {},
   "outputs": [
    {
     "data": {
      "text/plain": [
       "True"
      ]
     },
     "execution_count": 2,
     "metadata": {},
     "output_type": "execute_result"
    }
   ],
   "source": [
    "'123'.isalnum()"
   ]
  },
  {
   "cell_type": "code",
   "execution_count": 3,
   "id": "cc5378aa-1a2d-4817-9bb6-52dc0cb235bb",
   "metadata": {},
   "outputs": [
    {
     "data": {
      "text/plain": [
       "True"
      ]
     },
     "execution_count": 3,
     "metadata": {},
     "output_type": "execute_result"
    }
   ],
   "source": [
    "'abc'.isalnum()"
   ]
  },
  {
   "cell_type": "code",
   "execution_count": 84,
   "id": "0a039173-60ac-4964-af84-8bd82e0c69ec",
   "metadata": {},
   "outputs": [
    {
     "data": {
      "text/plain": [
       "True"
      ]
     },
     "execution_count": 84,
     "metadata": {},
     "output_type": "execute_result"
    }
   ],
   "source": [
    "'ABC'.isalnum()"
   ]
  },
  {
   "cell_type": "markdown",
   "id": "333bbd9e-44ef-4f54-8200-681279c7be42",
   "metadata": {},
   "source": [
    "**isalpha**\n",
    "\n",
    "- isalpha means we can execute only alphabets like upper and lower\n",
    "\n",
    "- we cannot execute numericals"
   ]
  },
  {
   "cell_type": "code",
   "execution_count": 4,
   "id": "a7ae4415-6899-45f2-bd8c-25113b70fea2",
   "metadata": {},
   "outputs": [
    {
     "data": {
      "text/plain": [
       "True"
      ]
     },
     "execution_count": 4,
     "metadata": {},
     "output_type": "execute_result"
    }
   ],
   "source": [
    "'abc'.isalpha()"
   ]
  },
  {
   "cell_type": "code",
   "execution_count": 83,
   "id": "277b5f45-6cc9-423f-a815-61c32f5a7439",
   "metadata": {},
   "outputs": [
    {
     "data": {
      "text/plain": [
       "True"
      ]
     },
     "execution_count": 83,
     "metadata": {},
     "output_type": "execute_result"
    }
   ],
   "source": [
    "'ABC'.isalpha()"
   ]
  },
  {
   "cell_type": "code",
   "execution_count": 6,
   "id": "03fd2bae-33cb-433b-8288-02c71f6ff17b",
   "metadata": {},
   "outputs": [
    {
     "data": {
      "text/plain": [
       "False"
      ]
     },
     "execution_count": 6,
     "metadata": {},
     "output_type": "execute_result"
    }
   ],
   "source": [
    "'123'.isalpha()"
   ]
  },
  {
   "cell_type": "markdown",
   "id": "201aa297-c628-473f-a9da-5a17a706f9b7",
   "metadata": {},
   "source": [
    "**isascii**\n",
    "\n",
    "- isascii means it will take uppercase,lowercase,numericals and special charcaters"
   ]
  },
  {
   "cell_type": "code",
   "execution_count": 7,
   "id": "73b0a2b5-cbc3-4ebb-8dfe-aafc68dd46b8",
   "metadata": {},
   "outputs": [
    {
     "data": {
      "text/plain": [
       "True"
      ]
     },
     "execution_count": 7,
     "metadata": {},
     "output_type": "execute_result"
    }
   ],
   "source": [
    "'abc'.isascii()"
   ]
  },
  {
   "cell_type": "code",
   "execution_count": 8,
   "id": "6076caf9-5502-426f-a166-51f01ab49930",
   "metadata": {},
   "outputs": [
    {
     "data": {
      "text/plain": [
       "True"
      ]
     },
     "execution_count": 8,
     "metadata": {},
     "output_type": "execute_result"
    }
   ],
   "source": [
    "'ABC'.isascii()"
   ]
  },
  {
   "cell_type": "code",
   "execution_count": 11,
   "id": "0c6a0559-028a-4cc3-8884-883253372c8b",
   "metadata": {},
   "outputs": [
    {
     "data": {
      "text/plain": [
       "True"
      ]
     },
     "execution_count": 11,
     "metadata": {},
     "output_type": "execute_result"
    }
   ],
   "source": [
    "'123'.isascii()"
   ]
  },
  {
   "cell_type": "code",
   "execution_count": 12,
   "id": "890870e6-6b56-4555-a55b-f004db2bdd70",
   "metadata": {},
   "outputs": [
    {
     "data": {
      "text/plain": [
       "True"
      ]
     },
     "execution_count": 12,
     "metadata": {},
     "output_type": "execute_result"
    }
   ],
   "source": [
    "'@'.isascii()"
   ]
  },
  {
   "cell_type": "markdown",
   "id": "53457c20-d2a4-434d-ab04-9f7e7fbc0a1a",
   "metadata": {},
   "source": [
    "**isdecimal**\n",
    "\n",
    "- isdecimal will take only decimal charcaters\n",
    "  "
   ]
  },
  {
   "cell_type": "code",
   "execution_count": 14,
   "id": "8d9a9045-f966-4a98-9b92-d30ff39cd347",
   "metadata": {},
   "outputs": [
    {
     "data": {
      "text/plain": [
       "True"
      ]
     },
     "execution_count": 14,
     "metadata": {},
     "output_type": "execute_result"
    }
   ],
   "source": [
    "'123'.isdecimal()"
   ]
  },
  {
   "cell_type": "code",
   "execution_count": 15,
   "id": "d7ebe072-0b2e-4079-8a2d-ba494c34eb16",
   "metadata": {},
   "outputs": [
    {
     "data": {
      "text/plain": [
       "False"
      ]
     },
     "execution_count": 15,
     "metadata": {},
     "output_type": "execute_result"
    }
   ],
   "source": [
    "'123.45'.isdecimal()"
   ]
  },
  {
   "cell_type": "code",
   "execution_count": 82,
   "id": "4b3e09d2-7e06-459b-84ad-b4711c527206",
   "metadata": {},
   "outputs": [
    {
     "data": {
      "text/plain": [
       "False"
      ]
     },
     "execution_count": 82,
     "metadata": {},
     "output_type": "execute_result"
    }
   ],
   "source": [
    "'0.008'.isdecimal()"
   ]
  },
  {
   "cell_type": "code",
   "execution_count": 85,
   "id": "0dadc1f8-ac5a-4f6b-b9ad-7edfefe9065f",
   "metadata": {},
   "outputs": [
    {
     "data": {
      "text/plain": [
       "False"
      ]
     },
     "execution_count": 85,
     "metadata": {},
     "output_type": "execute_result"
    }
   ],
   "source": [
    "'123&45'.isdecimal()"
   ]
  },
  {
   "cell_type": "markdown",
   "id": "14ea5ce6-5115-4190-a5a7-dc79c6c1aeb4",
   "metadata": {},
   "source": [
    "**isdigit**\n",
    "\n",
    "- isdigit means it should contains only digits "
   ]
  },
  {
   "cell_type": "code",
   "execution_count": 18,
   "id": "ff1438e8-252e-407a-aca1-1832fdc023be",
   "metadata": {},
   "outputs": [
    {
     "data": {
      "text/plain": [
       "True"
      ]
     },
     "execution_count": 18,
     "metadata": {},
     "output_type": "execute_result"
    }
   ],
   "source": [
    "'123'.isdigit()"
   ]
  },
  {
   "cell_type": "code",
   "execution_count": 19,
   "id": "5355e993-4f4c-44f7-8b49-9ddef2a2f3ac",
   "metadata": {},
   "outputs": [
    {
     "data": {
      "text/plain": [
       "False"
      ]
     },
     "execution_count": 19,
     "metadata": {},
     "output_type": "execute_result"
    }
   ],
   "source": [
    "'123.45'.isdigit()"
   ]
  },
  {
   "cell_type": "code",
   "execution_count": 87,
   "id": "96c03e7b-8edc-4f20-9dce-ae565793fd1e",
   "metadata": {},
   "outputs": [
    {
     "data": {
      "text/plain": [
       "False"
      ]
     },
     "execution_count": 87,
     "metadata": {},
     "output_type": "execute_result"
    }
   ],
   "source": [
    "'123#45'.isdigit()"
   ]
  },
  {
   "cell_type": "markdown",
   "id": "3670d2d9-6809-4960-a374-7bb372d498b3",
   "metadata": {},
   "source": [
    "**isidentifier**\n",
    "\n",
    "- isidentifier means it will take only uppercase ,lowecase and underscore\n",
    "\n",
    "- It is not taking the numbers and special charcaters"
   ]
  },
  {
   "cell_type": "code",
   "execution_count": 22,
   "id": "d997e21a-286f-455a-8df8-5f2d4f7b1f30",
   "metadata": {},
   "outputs": [
    {
     "data": {
      "text/plain": [
       "False"
      ]
     },
     "execution_count": 22,
     "metadata": {},
     "output_type": "execute_result"
    }
   ],
   "source": [
    "'123'.isidentifier()"
   ]
  },
  {
   "cell_type": "code",
   "execution_count": 23,
   "id": "7c302af0-8119-4146-9bc5-209c11fc3fe0",
   "metadata": {},
   "outputs": [
    {
     "data": {
      "text/plain": [
       "True"
      ]
     },
     "execution_count": 23,
     "metadata": {},
     "output_type": "execute_result"
    }
   ],
   "source": [
    "'adc'.isidentifier()"
   ]
  },
  {
   "cell_type": "code",
   "execution_count": 24,
   "id": "9adf18d2-8d31-459f-b8d3-d0e79bc36a49",
   "metadata": {},
   "outputs": [
    {
     "data": {
      "text/plain": [
       "True"
      ]
     },
     "execution_count": 24,
     "metadata": {},
     "output_type": "execute_result"
    }
   ],
   "source": [
    "'ABC'.isidentifier()"
   ]
  },
  {
   "cell_type": "code",
   "execution_count": 25,
   "id": "033d43de-9721-46f7-af57-0745f9b3fe91",
   "metadata": {},
   "outputs": [
    {
     "data": {
      "text/plain": [
       "False"
      ]
     },
     "execution_count": 25,
     "metadata": {},
     "output_type": "execute_result"
    }
   ],
   "source": [
    "'@'.isidentifier()"
   ]
  },
  {
   "cell_type": "code",
   "execution_count": 26,
   "id": "5540a7b4-f6c1-49c7-83f1-5a3afe664aac",
   "metadata": {},
   "outputs": [
    {
     "data": {
      "text/plain": [
       "True"
      ]
     },
     "execution_count": 26,
     "metadata": {},
     "output_type": "execute_result"
    }
   ],
   "source": [
    "'ABC_abc'.isidentifier()"
   ]
  },
  {
   "cell_type": "markdown",
   "id": "e8e8b907-47b1-4e89-96a8-e67346bd23ee",
   "metadata": {},
   "source": [
    "**islower**\n",
    "\n",
    "- islower means it contains  lowercase letters,numericals and  all other special charcaters"
   ]
  },
  {
   "cell_type": "code",
   "execution_count": 27,
   "id": "08bde2d7-9b4e-40e6-8be8-d5a7bfdd4681",
   "metadata": {},
   "outputs": [
    {
     "data": {
      "text/plain": [
       "True"
      ]
     },
     "execution_count": 27,
     "metadata": {},
     "output_type": "execute_result"
    }
   ],
   "source": [
    "'adc'.islower()"
   ]
  },
  {
   "cell_type": "code",
   "execution_count": 81,
   "id": "c808f02d-ebdf-4e8e-a1a7-9f4e0f6710e6",
   "metadata": {},
   "outputs": [
    {
     "data": {
      "text/plain": [
       "True"
      ]
     },
     "execution_count": 81,
     "metadata": {},
     "output_type": "execute_result"
    }
   ],
   "source": [
    "'ab123'.islower()"
   ]
  },
  {
   "cell_type": "code",
   "execution_count": 79,
   "id": "d284c6c7-fd97-467b-9b96-7242edc66248",
   "metadata": {},
   "outputs": [
    {
     "data": {
      "text/plain": [
       "True"
      ]
     },
     "execution_count": 79,
     "metadata": {},
     "output_type": "execute_result"
    }
   ],
   "source": [
    "'ab_c'.islower()"
   ]
  },
  {
   "cell_type": "code",
   "execution_count": 80,
   "id": "c8608b91-3411-4d5e-9050-e016b471afd9",
   "metadata": {},
   "outputs": [
    {
     "data": {
      "text/plain": [
       "True"
      ]
     },
     "execution_count": 80,
     "metadata": {},
     "output_type": "execute_result"
    }
   ],
   "source": [
    "'ab&c'.islower()"
   ]
  },
  {
   "cell_type": "markdown",
   "id": "99fce300-c7d3-465d-9ff5-4ffbfbfa0329",
   "metadata": {},
   "source": [
    "**isnumeric**\n",
    "\n",
    "- isnumeric consists of numerical characters only\n",
    "\n",
    "- It does not allow any spaces,special charcaters,underscore"
   ]
  },
  {
   "cell_type": "code",
   "execution_count": 28,
   "id": "0d827e3d-8c0c-4462-9b76-5812128e8999",
   "metadata": {},
   "outputs": [
    {
     "data": {
      "text/plain": [
       "True"
      ]
     },
     "execution_count": 28,
     "metadata": {},
     "output_type": "execute_result"
    }
   ],
   "source": [
    "'123'.isnumeric()"
   ]
  },
  {
   "cell_type": "code",
   "execution_count": 30,
   "id": "480d6ed0-9abc-44d9-a1b2-0f70c12c38fe",
   "metadata": {},
   "outputs": [
    {
     "data": {
      "text/plain": [
       "False"
      ]
     },
     "execution_count": 30,
     "metadata": {},
     "output_type": "execute_result"
    }
   ],
   "source": [
    "'.'.isnumeric()"
   ]
  },
  {
   "cell_type": "code",
   "execution_count": 31,
   "id": "9e16a7e2-938b-437f-bbdb-1b93313a8cc5",
   "metadata": {},
   "outputs": [
    {
     "data": {
      "text/plain": [
       "False"
      ]
     },
     "execution_count": 31,
     "metadata": {},
     "output_type": "execute_result"
    }
   ],
   "source": [
    "'&'.isnumeric()"
   ]
  },
  {
   "cell_type": "code",
   "execution_count": 32,
   "id": "bd5cd85c-3d5c-46c5-948f-d0572cf9bcba",
   "metadata": {},
   "outputs": [
    {
     "data": {
      "text/plain": [
       "False"
      ]
     },
     "execution_count": 32,
     "metadata": {},
     "output_type": "execute_result"
    }
   ],
   "source": [
    "'1.23'.isnumeric()"
   ]
  },
  {
   "cell_type": "code",
   "execution_count": 33,
   "id": "b6dbb0f7-a1e5-46d2-9778-e88f170044df",
   "metadata": {},
   "outputs": [
    {
     "data": {
      "text/plain": [
       "False"
      ]
     },
     "execution_count": 33,
     "metadata": {},
     "output_type": "execute_result"
    }
   ],
   "source": [
    "'12&45'.isnumeric()"
   ]
  },
  {
   "cell_type": "code",
   "execution_count": 34,
   "id": "01746a15-573c-4e1b-9f98-b0b92e78f66f",
   "metadata": {},
   "outputs": [
    {
     "data": {
      "text/plain": [
       "False"
      ]
     },
     "execution_count": 34,
     "metadata": {},
     "output_type": "execute_result"
    }
   ],
   "source": [
    "'12/45'.isnumeric()"
   ]
  },
  {
   "cell_type": "markdown",
   "id": "72fb8187-9c4f-40da-8346-dd0e19e296da",
   "metadata": {},
   "source": [
    "**isprintable**\n",
    "\n",
    "- isprintable means it can take all the charcaters like lowercase,uppercase,numericals,sepcial characters,underscore,and    all other characters"
   ]
  },
  {
   "cell_type": "code",
   "execution_count": 35,
   "id": "54461393-b80f-4efd-bd93-666b0fea0d1c",
   "metadata": {},
   "outputs": [
    {
     "data": {
      "text/plain": [
       "True"
      ]
     },
     "execution_count": 35,
     "metadata": {},
     "output_type": "execute_result"
    }
   ],
   "source": [
    "'adc'.isprintable()"
   ]
  },
  {
   "cell_type": "code",
   "execution_count": 36,
   "id": "b11edbb4-a7b6-42c0-a499-da1a74172a02",
   "metadata": {},
   "outputs": [
    {
     "data": {
      "text/plain": [
       "True"
      ]
     },
     "execution_count": 36,
     "metadata": {},
     "output_type": "execute_result"
    }
   ],
   "source": [
    "'123'.isprintable()"
   ]
  },
  {
   "cell_type": "code",
   "execution_count": 37,
   "id": "a5fbc939-f2c6-4ef3-992c-93a306074c5b",
   "metadata": {},
   "outputs": [
    {
     "data": {
      "text/plain": [
       "True"
      ]
     },
     "execution_count": 37,
     "metadata": {},
     "output_type": "execute_result"
    }
   ],
   "source": [
    "'.'.isprintable()"
   ]
  },
  {
   "cell_type": "code",
   "execution_count": 38,
   "id": "46a2241e-1420-4b4e-ae3d-2d5348270200",
   "metadata": {},
   "outputs": [
    {
     "data": {
      "text/plain": [
       "True"
      ]
     },
     "execution_count": 38,
     "metadata": {},
     "output_type": "execute_result"
    }
   ],
   "source": [
    "'&'.isprintable()"
   ]
  },
  {
   "cell_type": "code",
   "execution_count": 39,
   "id": "2142df8a-dcbd-41c8-b931-ab69d46871d8",
   "metadata": {},
   "outputs": [
    {
     "data": {
      "text/plain": [
       "True"
      ]
     },
     "execution_count": 39,
     "metadata": {},
     "output_type": "execute_result"
    }
   ],
   "source": [
    "'_'.isprintable()"
   ]
  },
  {
   "cell_type": "code",
   "execution_count": 40,
   "id": "a3c932f7-d5f2-488d-85ed-686d3b2424c5",
   "metadata": {},
   "outputs": [
    {
     "data": {
      "text/plain": [
       "True"
      ]
     },
     "execution_count": 40,
     "metadata": {},
     "output_type": "execute_result"
    }
   ],
   "source": [
    "'@abc'.isprintable()"
   ]
  },
  {
   "cell_type": "markdown",
   "id": "4eb29b09-3559-45ce-bc7c-79003bb3a852",
   "metadata": {},
   "source": [
    "**isspace**\n",
    "\n",
    "- isspace means it contains only space charcaters like space,newline etc"
   ]
  },
  {
   "cell_type": "code",
   "execution_count": 41,
   "id": "7e4ee263-2ff8-4a47-ba72-e711e83ee7dc",
   "metadata": {},
   "outputs": [
    {
     "data": {
      "text/plain": [
       "False"
      ]
     },
     "execution_count": 41,
     "metadata": {},
     "output_type": "execute_result"
    }
   ],
   "source": [
    "'adc'.isspace()"
   ]
  },
  {
   "cell_type": "code",
   "execution_count": 42,
   "id": "136b822b-9194-4274-acd3-b2c5f59ead77",
   "metadata": {},
   "outputs": [
    {
     "data": {
      "text/plain": [
       "False"
      ]
     },
     "execution_count": 42,
     "metadata": {},
     "output_type": "execute_result"
    }
   ],
   "source": [
    "' adc'.isspace()"
   ]
  },
  {
   "cell_type": "code",
   "execution_count": 43,
   "id": "3ce50bbc-32b2-4140-9c6b-07447610b31c",
   "metadata": {},
   "outputs": [
    {
     "data": {
      "text/plain": [
       "False"
      ]
     },
     "execution_count": 43,
     "metadata": {},
     "output_type": "execute_result"
    }
   ],
   "source": [
    "'123'.isspace()"
   ]
  },
  {
   "cell_type": "code",
   "execution_count": 44,
   "id": "dd8e8f9e-9179-4733-ad4d-d4b5f2698505",
   "metadata": {},
   "outputs": [
    {
     "data": {
      "text/plain": [
       "True"
      ]
     },
     "execution_count": 44,
     "metadata": {},
     "output_type": "execute_result"
    }
   ],
   "source": [
    "' '.isspace()"
   ]
  },
  {
   "cell_type": "code",
   "execution_count": 45,
   "id": "7bebf7aa-837c-4929-a806-39148e53512d",
   "metadata": {},
   "outputs": [
    {
     "data": {
      "text/plain": [
       "True"
      ]
     },
     "execution_count": 45,
     "metadata": {},
     "output_type": "execute_result"
    }
   ],
   "source": [
    "'\\n'.isspace()"
   ]
  },
  {
   "cell_type": "code",
   "execution_count": 46,
   "id": "afccf10e-4abd-416d-bfca-93b090fa635d",
   "metadata": {},
   "outputs": [
    {
     "data": {
      "text/plain": [
       "True"
      ]
     },
     "execution_count": 46,
     "metadata": {},
     "output_type": "execute_result"
    }
   ],
   "source": [
    "'\\t'.isspace()"
   ]
  },
  {
   "cell_type": "markdown",
   "id": "3c060001-c594-4221-9b52-3568262fe676",
   "metadata": {},
   "source": [
    "**istitle**\n",
    "\n",
    "- istitle means every first letter of each word should be capital\n",
    "\n",
    "- And it is taking all special characters and numericals also"
   ]
  },
  {
   "cell_type": "code",
   "execution_count": 49,
   "id": "4f2b6b0b-7dbd-4886-b2eb-34605c03279e",
   "metadata": {},
   "outputs": [
    {
     "data": {
      "text/plain": [
       "True"
      ]
     },
     "execution_count": 49,
     "metadata": {},
     "output_type": "execute_result"
    }
   ],
   "source": [
    "'Adc'.istitle()"
   ]
  },
  {
   "cell_type": "code",
   "execution_count": 57,
   "id": "abf7a349-fd0d-4d83-a718-875bcf6cff7e",
   "metadata": {},
   "outputs": [
    {
     "data": {
      "text/plain": [
       "False"
      ]
     },
     "execution_count": 57,
     "metadata": {},
     "output_type": "execute_result"
    }
   ],
   "source": [
    "'adc'.istitle()"
   ]
  },
  {
   "cell_type": "code",
   "execution_count": 58,
   "id": "df2e1180-5b79-4aac-9ba7-b4bb622a8f67",
   "metadata": {},
   "outputs": [
    {
     "data": {
      "text/plain": [
       "True"
      ]
     },
     "execution_count": 58,
     "metadata": {},
     "output_type": "execute_result"
    }
   ],
   "source": [
    "'Hii How Are You'.istitle()"
   ]
  },
  {
   "cell_type": "code",
   "execution_count": 59,
   "id": "4d81047c-f15f-4e2e-b7dd-7ea1f1c3e1b5",
   "metadata": {},
   "outputs": [
    {
     "data": {
      "text/plain": [
       "False"
      ]
     },
     "execution_count": 59,
     "metadata": {},
     "output_type": "execute_result"
    }
   ],
   "source": [
    "'Hii how are you'.istitle()"
   ]
  },
  {
   "cell_type": "code",
   "execution_count": 60,
   "id": "f1ad17cd-46fb-432d-bea7-eb906dac42c6",
   "metadata": {},
   "outputs": [
    {
     "data": {
      "text/plain": [
       "True"
      ]
     },
     "execution_count": 60,
     "metadata": {},
     "output_type": "execute_result"
    }
   ],
   "source": [
    "'Hello_Python'.istitle()"
   ]
  },
  {
   "cell_type": "code",
   "execution_count": 61,
   "id": "5bca31ee-b933-4ff0-abdf-e635c5c25cbd",
   "metadata": {},
   "outputs": [
    {
     "data": {
      "text/plain": [
       "True"
      ]
     },
     "execution_count": 61,
     "metadata": {},
     "output_type": "execute_result"
    }
   ],
   "source": [
    "'Hello&Python'.istitle()"
   ]
  },
  {
   "cell_type": "code",
   "execution_count": 62,
   "id": "da21a3e8-691d-4e1d-be9e-e9eaee6f7389",
   "metadata": {},
   "outputs": [
    {
     "data": {
      "text/plain": [
       "True"
      ]
     },
     "execution_count": 62,
     "metadata": {},
     "output_type": "execute_result"
    }
   ],
   "source": [
    "'Hello.Python'.istitle()"
   ]
  },
  {
   "cell_type": "code",
   "execution_count": 64,
   "id": "5d8f4069-28b8-4833-9417-eeac29d6ecfa",
   "metadata": {},
   "outputs": [
    {
     "data": {
      "text/plain": [
       "True"
      ]
     },
     "execution_count": 64,
     "metadata": {},
     "output_type": "execute_result"
    }
   ],
   "source": [
    "'Hello123'.istitle()"
   ]
  },
  {
   "cell_type": "code",
   "execution_count": 65,
   "id": "92ccfe40-7425-4edd-8fab-3aca55e8794c",
   "metadata": {},
   "outputs": [
    {
     "data": {
      "text/plain": [
       "True"
      ]
     },
     "execution_count": 65,
     "metadata": {},
     "output_type": "execute_result"
    }
   ],
   "source": [
    "'123Hello'.istitle()"
   ]
  },
  {
   "cell_type": "markdown",
   "id": "8e730362-fdfd-4af6-bf90-7736327a6d0d",
   "metadata": {},
   "source": [
    "**isupper**\n",
    "\n",
    "- isupper means iT has uppercase letters, numbers and all special charcaters"
   ]
  },
  {
   "cell_type": "code",
   "execution_count": 67,
   "id": "bfd2c715-d18c-4306-aae1-051a8cec8fc6",
   "metadata": {},
   "outputs": [
    {
     "data": {
      "text/plain": [
       "True"
      ]
     },
     "execution_count": 67,
     "metadata": {},
     "output_type": "execute_result"
    }
   ],
   "source": [
    "'HELLO'.isupper()"
   ]
  },
  {
   "cell_type": "code",
   "execution_count": 68,
   "id": "d009ba53-16d4-4c16-8c40-850a766ccfde",
   "metadata": {},
   "outputs": [
    {
     "data": {
      "text/plain": [
       "True"
      ]
     },
     "execution_count": 68,
     "metadata": {},
     "output_type": "execute_result"
    }
   ],
   "source": [
    "'HELLO&'.isupper()"
   ]
  },
  {
   "cell_type": "code",
   "execution_count": 69,
   "id": "1093006c-d385-4952-b2fb-9b2aae7e6db2",
   "metadata": {},
   "outputs": [
    {
     "data": {
      "text/plain": [
       "True"
      ]
     },
     "execution_count": 69,
     "metadata": {},
     "output_type": "execute_result"
    }
   ],
   "source": [
    "'123HELLO'.isupper()"
   ]
  },
  {
   "cell_type": "code",
   "execution_count": 71,
   "id": "b2bf59dc-1c38-41e6-a7b4-e36fd6474b8d",
   "metadata": {},
   "outputs": [
    {
     "data": {
      "text/plain": [
       "True"
      ]
     },
     "execution_count": 71,
     "metadata": {},
     "output_type": "execute_result"
    }
   ],
   "source": [
    "'123_HELLO'.isupper()"
   ]
  },
  {
   "cell_type": "code",
   "execution_count": null,
   "id": "7ccae9b8-4595-476f-be99-d0a0796a4d59",
   "metadata": {},
   "outputs": [],
   "source": []
  }
 ],
 "metadata": {
  "kernelspec": {
   "display_name": "Python 3 (ipykernel)",
   "language": "python",
   "name": "python3"
  },
  "language_info": {
   "codemirror_mode": {
    "name": "ipython",
    "version": 3
   },
   "file_extension": ".py",
   "mimetype": "text/x-python",
   "name": "python",
   "nbconvert_exporter": "python",
   "pygments_lexer": "ipython3",
   "version": "3.11.7"
  }
 },
 "nbformat": 4,
 "nbformat_minor": 5
}
