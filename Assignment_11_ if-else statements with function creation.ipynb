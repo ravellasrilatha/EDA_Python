{
 "cells": [
  {
   "cell_type": "code",
   "execution_count": 17,
   "id": "4b33a9d2-3ce0-4797-a475-c7fb8f2f3947",
   "metadata": {},
   "outputs": [
    {
     "name": "stdin",
     "output_type": "stream",
     "text": [
      "Entre a length in cm: 150\n"
     ]
    },
    {
     "name": "stdout",
     "output_type": "stream",
     "text": [
      "59.05511811023622 inches\n"
     ]
    }
   ],
   "source": [
    "#### Problem-1(Use conditional statements)\n",
    "\n",
    "# Write a program that asks the user to enter a length in centimetres. If the user enters\n",
    "# a negative length, the program should tell the user that the entry is invalid. Otherwise,\n",
    "# the program should convert the length to inches and print out the result. There are\n",
    "# 2.54 centimetres in an inch.\n",
    "\n",
    "cm=int(input(\"Entre a length in cm:\"))\n",
    "if cm < 0:\n",
    "    print(\"Invalid entry\")\n",
    "else:\n",
    "    print(cm/2.54,\"inches\")\n"
   ]
  },
  {
   "cell_type": "code",
   "execution_count": 10,
   "id": "5c8bc6e3-90b7-406d-b3f6-9d1a4ff7c396",
   "metadata": {},
   "outputs": [
    {
     "name": "stdin",
     "output_type": "stream",
     "text": [
      "Is this temperature in Celsius or Fahrenheit (C/F): C\n",
      "Enter the temperature:  100\n"
     ]
    },
    {
     "name": "stdout",
     "output_type": "stream",
     "text": [
      "The temperature in Fahrenheit is: 212.0°F\n"
     ]
    }
   ],
   "source": [
    "#### Problem-2(Use conditional statements)\n",
    "# Ask the user for a temperature. Then ask them what units, Celsius or Fahrenheit, the\n",
    "# temperature is in. Your program should convert the temperature to the other unit. The\n",
    "# conversions are F = 9 5 C +32 and C = 5 9 (F − 32).\n",
    "\n",
    "unit = input(\"Is this temperature in Celsius or Fahrenheit (C/F):\")\n",
    "temp = float(input(\"Enter the temperature: \"))\n",
    "if unit == \"C\":\n",
    "    temp = round((9 * temp) / 5 + 32, 1)\n",
    "    print(f\"The temperature in Fahrenheit is: {temp}°F\")\n",
    "elif unit == \"F\":\n",
    "    temp = round((temp - 32) * 5 / 9, 1)\n",
    "    print(f\"The temperature in Celsius is: {temp}°C\")\n",
    "else:\n",
    "    print(f\"{unit} is an invalid unit of measurement\")\n",
    "    \n"
   ]
  },
  {
   "cell_type": "code",
   "execution_count": 18,
   "id": "b95db7ed-54ba-45a9-9ebf-b48acf48b6e0",
   "metadata": {},
   "outputs": [
    {
     "name": "stdin",
     "output_type": "stream",
     "text": [
      "Guess the number between 1 and 10: 8\n"
     ]
    },
    {
     "name": "stdout",
     "output_type": "stream",
     "text": [
      "not correct, The correct number was 3.\n"
     ]
    }
   ],
   "source": [
    "#### Problem-5(Use conditional statements)\n",
    "# Generate a random number between 1 and 10. Ask the user to guess the number and print a\n",
    "# message based on whether they get it right or not.\n",
    "\n",
    "import random\n",
    "random_num=random.randint(1,10)\n",
    "user_guess=int(input(\"Guess the number between 1 and 10:\"))\n",
    "if user_guess==random_num:\n",
    "    print(\"You guessed the number correctly\")\n",
    "else:\n",
    "    print(f\"not correct, The correct number was {random_num}.\")"
   ]
  },
  {
   "cell_type": "code",
   "execution_count": 27,
   "id": "48a23c7c-a46e-4b29-b388-f4db69ad7fce",
   "metadata": {},
   "outputs": [
    {
     "name": "stdin",
     "output_type": "stream",
     "text": [
      "Enter the first number: 1.678\n",
      "Enter the second number: 1.234\n"
     ]
    },
    {
     "name": "stdout",
     "output_type": "stream",
     "text": [
      "not close\n"
     ]
    }
   ],
   "source": [
    "#### Problem-7(Use conditional statements)\n",
    "# Write a program that asks the user for two numbers and prints Close if the\n",
    "# numbers are within .001of each other and Not close otherwise.\n",
    "\n",
    "number1=float(input(\"Enter the first number:\"))\n",
    "number2=float(input(\"Enter the second number:\"))\n",
    "if (number1-number2) <=0.001:\n",
    "    print(\"each other\")\n",
    "else:\n",
    "    print(\"not close\")\n"
   ]
  },
  {
   "cell_type": "code",
   "execution_count": 38,
   "id": "878c433b-ad2e-4f0a-bebb-a11cbda063f4",
   "metadata": {},
   "outputs": [
    {
     "name": "stdin",
     "output_type": "stream",
     "text": [
      "Enter a number: 5\n"
     ]
    },
    {
     "name": "stdout",
     "output_type": "stream",
     "text": [
      "The divisors of 5 are:\n",
      "1\n",
      "5\n"
     ]
    }
   ],
   "source": [
    "#### Problem-9(Use conditional statements)\n",
    "# Write a program that asks the user to enter a number and prints out all the divisors of that\n",
    "# number. [Hint: the % operator is used to tell if a number is divisible by something.\n",
    "\n",
    "n=int(input(\"Enter a number:\"))\n",
    "print(f\"The divisors of {n} are:\")\n",
    "for i in range(1,n+1):\n",
    "    if n%i==0:\n",
    "        print(i)\n",
    "\n"
   ]
  },
  {
   "cell_type": "code",
   "execution_count": 40,
   "id": "c4feb03c-721b-4c40-a253-45e7c28a1b26",
   "metadata": {},
   "outputs": [
    {
     "name": "stdin",
     "output_type": "stream",
     "text": [
      "Enter Year: 2024\n"
     ]
    },
    {
     "name": "stdout",
     "output_type": "stream",
     "text": [
      "2024 it is not a leap year\n"
     ]
    }
   ],
   "source": [
    "#### Problem-8(Use conditional statements)\n",
    "# A year is a leap year if it is divisible by 4, except that years divisible by 100 are not leap years unless\n",
    "# they are also divisible by 400. Write a program that asks the user for a year and prints out whether\n",
    "# it is a leap year or not.\n",
    "\n",
    "year=int(input(\"Enter Year:\"))\n",
    "if year==400:\n",
    "    print(year, \"it is a leap year\")\n",
    "elif year==100:\n",
    "    print(year,\"it is not a leap year\")\n",
    "elif year==4:\n",
    "    print(year, \"it is  leap year\")\n",
    "else:\n",
    "    print(year, \"it is not a leap year\")"
   ]
  },
  {
   "cell_type": "code",
   "execution_count": 45,
   "id": "aa0a0330-7c83-40dc-872b-334672b5567d",
   "metadata": {},
   "outputs": [
    {
     "name": "stdin",
     "output_type": "stream",
     "text": [
      "Enter how many credits: 34\n"
     ]
    },
    {
     "name": "stdout",
     "output_type": "stream",
     "text": [
      "asophomore\n"
     ]
    }
   ],
   "source": [
    "#### Problem-4(Use conditional statements)\n",
    "# Write a program that asks the user how many credits they have taken. If they have taken 23 or\n",
    "# less, print that the student is a freshman. If they have taken between 24 and 53, print that they\n",
    "# are asophomore. The range for juniors is 54 to 83, and for seniors it is 84 and over.\n",
    "\n",
    "credits=int(input(\"Enter how many credits:\"))\n",
    "if credits<=23:\n",
    "    print(\"student is a fresherman\")\n",
    "elif 24<=credits<=53:\n",
    "    print(\"asophomore\")\n",
    "elif 54<=credits<=83:\n",
    "    print(\"junior\")\n",
    "else:\n",
    "    print(\"senior\")"
   ]
  },
  {
   "cell_type": "code",
   "execution_count": 55,
   "id": "9ee67c61-1191-4076-995a-2caf1c627d8c",
   "metadata": {},
   "outputs": [
    {
     "name": "stdin",
     "output_type": "stream",
     "text": [
      "enter how many items you are buying: 5\n"
     ]
    },
    {
     "name": "stdout",
     "output_type": "stream",
     "text": [
      "The total cost is $60.\n"
     ]
    }
   ],
   "source": [
    "#### Problem-6(Use conditional statements)\n",
    "# A store charges $12 per item if you buy less than 10 items. If you buy between 10\n",
    "# and 99 items, the cost is $10 per item. If you buy 100 or more items, the cost is $7\n",
    "# per item. Write a program that asks the user how many items they are buying and\n",
    "# prints the total cost.\n",
    "\n",
    "items=int(input(\"enter how many items you are buying:\"))\n",
    "if item<10:\n",
    "    cost_per_item=12\n",
    "elif 10<=item<=99:\n",
    "    cost_per_item=10\n",
    "else:\n",
    "    cost_per_item=7\n",
    "total_cost=items*cost_per_item\n",
    "print(f\"The total cost is ${total_cost}.\")"
   ]
  },
  {
   "cell_type": "code",
   "execution_count": 60,
   "id": "fd9f424c-6baf-41c6-bcc2-85fb22720596",
   "metadata": {},
   "outputs": [
    {
     "name": "stdin",
     "output_type": "stream",
     "text": [
      "Enter a temperature in celsius: -100\n"
     ]
    },
    {
     "name": "stdout",
     "output_type": "stream",
     "text": [
      "temperature is valid\n"
     ]
    }
   ],
   "source": [
    "#### Problem-3(Use conditional statements)\n",
    "# Ask the user to enter a temperature in Celsius. The program should print a\n",
    "# message based on the temperature:\n",
    "# • If the temperature is less than -273.15, print that the temperature is invalid because it is\n",
    "# below absolute zero.\n",
    "\n",
    "temp=int(input(\"Enter a temperature in celsius:\"))\n",
    "if temp<=-273.15:\n",
    "    print(f\" temperature is invalid it is below absolute zero\")\n",
    "else:\n",
    "    print(f\"temperature is valid\")"
   ]
  },
  {
   "cell_type": "code",
   "execution_count": 62,
   "id": "d9f5fbaf-b79c-43db-a444-054b8219775f",
   "metadata": {},
   "outputs": [
    {
     "name": "stdin",
     "output_type": "stream",
     "text": [
      "Enter a temperature in celsius: -273.15\n"
     ]
    },
    {
     "name": "stdout",
     "output_type": "stream",
     "text": [
      "temperature is absolute 0\n"
     ]
    }
   ],
   "source": [
    "# • If it is exactly -273.15, print that the temperature is absolute 0.\n",
    "\n",
    "temp=float(input(\"Enter a temperature in celsius:\"))\n",
    "if temp==-273.15:\n",
    "    print(f\"temperature is absolute 0\")"
   ]
  },
  {
   "cell_type": "code",
   "execution_count": 68,
   "id": "3318c562-3935-428e-b58a-117789d4e120",
   "metadata": {},
   "outputs": [
    {
     "name": "stdin",
     "output_type": "stream",
     "text": [
      "Enter a temperature in celsius: 0\n"
     ]
    },
    {
     "name": "stdout",
     "output_type": "stream",
     "text": [
      "temperature is at the freezing point\n"
     ]
    }
   ],
   "source": [
    "# • If the temperature is between -273.15 and 0, print that the temperature is below\n",
    "# freezing.If it is 0, print that the temperature is at the freezing point.\n",
    "\n",
    "temp=float(input(\"Enter a temperature in celsius:\"))\n",
    "if -273.15<temp<0:\n",
    "    print(f\"temperature is below freezing\")\n",
    "elif temp==0:\n",
    "    print(f\"temperature is at the freezing point\")\n",
    "else:\n",
    "    print(f\"Temperature input is valid.\")"
   ]
  },
  {
   "cell_type": "code",
   "execution_count": 73,
   "id": "08d7f01a-6ba5-4700-9aac-a2e1fe59310e",
   "metadata": {},
   "outputs": [
    {
     "name": "stdin",
     "output_type": "stream",
     "text": [
      "Enter a temperature in celsius: 90\n"
     ]
    },
    {
     "name": "stdout",
     "output_type": "stream",
     "text": [
      "temperature is in the normal range\n"
     ]
    }
   ],
   "source": [
    "# • If it is between 0 and 100, print that the temperature is in the normal\n",
    "# range. • If it is 100, print that the temperature is at the boiling point.\n",
    "\n",
    "temp=float(input(\"Enter a temperature in celsius:\"))\n",
    "if 0<temp<100:\n",
    "    print(f\"temperature is in the normal range\")\n",
    "elif temp==100:\n",
    "    print(f\"temperature is at the boiling point\")\n",
    "else:\n",
    "    print(f\"Temperature input is valid.\")\n"
   ]
  },
  {
   "cell_type": "code",
   "execution_count": 76,
   "id": "a9be5dcd-b6a3-48b5-b584-686b9e146974",
   "metadata": {},
   "outputs": [
    {
     "name": "stdin",
     "output_type": "stream",
     "text": [
      "Enter a temperature in celsius: 160\n"
     ]
    },
    {
     "name": "stdout",
     "output_type": "stream",
     "text": [
      "temperature is above the boiling point\n"
     ]
    }
   ],
   "source": [
    "# • If it is above 100, print that the temperature is above the boiling point.\n",
    "\n",
    "temp=float(input(\"Enter a temperature in celsius:\"))\n",
    "if temp>100:\n",
    "    print(f\"temperature is above the boiling point\")\n",
    "else:\n",
    "    print(f\"Temperature input is valid.\")"
   ]
  },
  {
   "cell_type": "code",
   "execution_count": null,
   "id": "3c83cb0b-816a-4cf7-b14c-8380b4d49120",
   "metadata": {},
   "outputs": [],
   "source": []
  }
 ],
 "metadata": {
  "kernelspec": {
   "display_name": "Python 3 (ipykernel)",
   "language": "python",
   "name": "python3"
  },
  "language_info": {
   "codemirror_mode": {
    "name": "ipython",
    "version": 3
   },
   "file_extension": ".py",
   "mimetype": "text/x-python",
   "name": "python",
   "nbconvert_exporter": "python",
   "pygments_lexer": "ipython3",
   "version": "3.11.7"
  }
 },
 "nbformat": 4,
 "nbformat_minor": 5
}
