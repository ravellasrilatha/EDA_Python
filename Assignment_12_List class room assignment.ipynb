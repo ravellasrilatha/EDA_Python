{
 "cells": [
  {
   "cell_type": "code",
   "execution_count": 1,
   "id": "3d5e516b-02b0-42ae-b55f-80b1fad2caa0",
   "metadata": {},
   "outputs": [
    {
     "name": "stdout",
     "output_type": "stream",
     "text": [
      "repeated  times of can is : 5\n",
      "repeated  times of canner is : 2\n",
      "repeated  times of not is : 1\n",
      "repeated  times of a is : 2\n",
      "repeated  times of but is : 1\n",
      "repeated  times of you is : 1\n",
      "repeated  times of make is : 1\n"
     ]
    }
   ],
   "source": [
    "# Q6) can canner can not a can but canner can you make a can\n",
    "# find out the each word how many times repeated\n",
    "\n",
    "# step-1: split it\n",
    "# step-2: iterate it\n",
    "# step-3: we have count method (but should not use)\n",
    "\n",
    "str='can canner can not a can but canner can you make a can'\n",
    "str=str.split()\n",
    "str1=[]\n",
    "for i in str:\n",
    "    if i not in str1:\n",
    "        str1.append(i)\n",
    "for i in range(0, len(str1)):\n",
    "    print('repeated  times of', str1[i], 'is :', str.count(str1[i])) \n",
    "\n"
   ]
  },
  {
   "cell_type": "code",
   "execution_count": null,
   "id": "bdfa4df1-d448-480e-b71b-da856d44d9f6",
   "metadata": {},
   "outputs": [],
   "source": [
    "'clear',\n",
    " 'copy',\n",
    " 'count',\n",
    " 'extend',\n",
    " 'index',"
   ]
  },
  {
   "cell_type": "markdown",
   "id": "881c6518-2a9a-4850-90a7-a9bc9a9feab3",
   "metadata": {},
   "source": [
    "**clear**"
   ]
  },
  {
   "cell_type": "code",
   "execution_count": 7,
   "id": "cc64c76f-9272-42f9-b8ca-e1df2930a437",
   "metadata": {},
   "outputs": [
    {
     "data": {
      "text/plain": [
       "[]"
      ]
     },
     "execution_count": 7,
     "metadata": {},
     "output_type": "execute_result"
    }
   ],
   "source": [
    "l=[1,2,3,4]\n",
    "l.clear()\n",
    "l"
   ]
  },
  {
   "cell_type": "markdown",
   "id": "9b3c7c38-f554-4d61-9608-e2e9638a4612",
   "metadata": {},
   "source": [
    "**copy**"
   ]
  },
  {
   "cell_type": "code",
   "execution_count": 3,
   "id": "1ff215d3-4824-4089-9f01-6ffce0b828a0",
   "metadata": {},
   "outputs": [
    {
     "data": {
      "text/plain": [
       "[1, 2, 3, 3, 4]"
      ]
     },
     "execution_count": 3,
     "metadata": {},
     "output_type": "execute_result"
    }
   ],
   "source": [
    "l=[1,2,3,3,4]\n",
    "l.copy()\n"
   ]
  },
  {
   "cell_type": "markdown",
   "id": "7fd44052-aada-47b2-bcf7-961651aa7ab4",
   "metadata": {},
   "source": [
    "**count**"
   ]
  },
  {
   "cell_type": "code",
   "execution_count": 4,
   "id": "97d97b41-30ef-4648-b1e6-c5c4a34e7a7e",
   "metadata": {},
   "outputs": [
    {
     "data": {
      "text/plain": [
       "2"
      ]
     },
     "execution_count": 4,
     "metadata": {},
     "output_type": "execute_result"
    }
   ],
   "source": [
    "l1=[1,2,3,4,6,7,7]\n",
    "l1.count(7)\n"
   ]
  },
  {
   "cell_type": "markdown",
   "id": "6ef63415-19ff-4bde-bda9-44b9d8872539",
   "metadata": {},
   "source": [
    "**extend**"
   ]
  },
  {
   "cell_type": "code",
   "execution_count": 5,
   "id": "24485628-77cf-4511-954e-a6bd50b1f1ce",
   "metadata": {},
   "outputs": [
    {
     "data": {
      "text/plain": [
       "[1, 2, 3, 'apple', 'mango']"
      ]
     },
     "execution_count": 5,
     "metadata": {},
     "output_type": "execute_result"
    }
   ],
   "source": [
    "l = [1, 2, 3]\n",
    "l.extend(['apple','mango'])\n",
    "l\n"
   ]
  },
  {
   "cell_type": "markdown",
   "id": "ba8d8f44-4dc7-4ee3-bb85-bb366e882c7e",
   "metadata": {},
   "source": [
    "**index**"
   ]
  },
  {
   "cell_type": "code",
   "execution_count": 6,
   "id": "56fc66a8-124e-4787-acfb-c41421ef0bda",
   "metadata": {},
   "outputs": [
    {
     "data": {
      "text/plain": [
       "1"
      ]
     },
     "execution_count": 6,
     "metadata": {},
     "output_type": "execute_result"
    }
   ],
   "source": [
    "l=['apple','mango','cherry','kiwi']\n",
    "l=l.index('mango')\n",
    "l"
   ]
  },
  {
   "cell_type": "code",
   "execution_count": null,
   "id": "cf0f49a2-e86b-4e1b-9c5e-111ac35be047",
   "metadata": {},
   "outputs": [],
   "source": []
  }
 ],
 "metadata": {
  "kernelspec": {
   "display_name": "Python 3 (ipykernel)",
   "language": "python",
   "name": "python3"
  },
  "language_info": {
   "codemirror_mode": {
    "name": "ipython",
    "version": 3
   },
   "file_extension": ".py",
   "mimetype": "text/x-python",
   "name": "python",
   "nbconvert_exporter": "python",
   "pygments_lexer": "ipython3",
   "version": "3.11.7"
  }
 },
 "nbformat": 4,
 "nbformat_minor": 5
}
