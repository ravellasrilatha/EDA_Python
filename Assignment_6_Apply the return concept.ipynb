{
 "cells": [
  {
   "cell_type": "code",
   "execution_count": 1,
   "id": "db1cc74a-1951-4aec-b4ca-65039b2f4c72",
   "metadata": {},
   "outputs": [],
   "source": [
    "# 1) create a function read three numbers find average"
   ]
  },
  {
   "cell_type": "code",
   "execution_count": 2,
   "id": "7ef7c92c-cf28-42f4-8d50-ad425e0a7334",
   "metadata": {},
   "outputs": [
    {
     "name": "stdin",
     "output_type": "stream",
     "text": [
      "enter a number1: 10\n",
      "enter a number2: 20\n",
      "enter a number3: 30\n"
     ]
    },
    {
     "name": "stdout",
     "output_type": "stream",
     "text": [
      "the average of 10,20 and 30 is 20.0\n"
     ]
    }
   ],
   "source": [
    "def avg():\n",
    "    num1=eval(input('enter a number1:'))\n",
    "    num2=eval(input('enter a number2:'))\n",
    "    num3=eval(input('enter a number3:'))\n",
    "    average=(num1+num2+num3)/3\n",
    "    average1=round(average,2)\n",
    "    print(f\"the average of {num1},{num2} and {num3} is {average1}\")\n",
    "    return(average1)\n",
    "average=avg()"
   ]
  },
  {
   "cell_type": "code",
   "execution_count": 3,
   "id": "36707ee4-e876-4980-8718-98f90368309a",
   "metadata": {},
   "outputs": [],
   "source": [
    "# 2)create a function ask the user enter the bill amount enter the tip per calculate total bill"
   ]
  },
  {
   "cell_type": "code",
   "execution_count": 9,
   "id": "0bfb50e9-b566-4e0c-84f1-91a682e79afe",
   "metadata": {},
   "outputs": [
    {
     "name": "stdin",
     "output_type": "stream",
     "text": [
      "enter the bill: 6000\n",
      "enter the tip in percentage: 10\n"
     ]
    },
    {
     "name": "stdout",
     "output_type": "stream",
     "text": [
      "the total bill is: 6600.0\n"
     ]
    }
   ],
   "source": [
    "def bill():\n",
    "    bill=eval(input(\"enter the bill:\"))\n",
    "    tip_per=eval(input(\"enter the tip in percentage:\"))\n",
    "    tip_amount=tip_per*bill/100\n",
    "    total_bill=bill+tip_amount\n",
    "    print(\"the total bill is:\",total_bill)\n",
    "    return(total_bill)\n",
    "total_bill=bill()"
   ]
  },
  {
   "cell_type": "code",
   "execution_count": 6,
   "id": "848ac13e-0272-4208-8595-f9a875db2364",
   "metadata": {},
   "outputs": [],
   "source": [
    "# 3)create a function ask the user enter the radius calculate the area of a circle"
   ]
  },
  {
   "cell_type": "code",
   "execution_count": 20,
   "id": "af5d4c3d-43ba-4d8c-b565-66436dbabd03",
   "metadata": {},
   "outputs": [
    {
     "name": "stdin",
     "output_type": "stream",
     "text": [
      "enter the radius: 2\n"
     ]
    },
    {
     "name": "stdout",
     "output_type": "stream",
     "text": [
      "the area of circle is 12.566370614359172\n"
     ]
    }
   ],
   "source": [
    "import math\n",
    "def area12():\n",
    "    pi=math.pi\n",
    "    r=eval(input(\"enter the radius:\"))\n",
    "    area=pi*r*r\n",
    "    area12=round(area,2)\n",
    "    print(f\"the area of circle is {area}\")\n",
    "    return(area)\n",
    "area=area12()\n"
   ]
  },
  {
   "cell_type": "code",
   "execution_count": 21,
   "id": "cb761f91-f9a8-42f8-9bd6-37633de684dd",
   "metadata": {},
   "outputs": [],
   "source": [
    "# 4) create a function ask the user enter breadth and height calculate the area of the triangle"
   ]
  },
  {
   "cell_type": "code",
   "execution_count": 26,
   "id": "85e00185-fb41-4361-b2e4-6ca64f8704a8",
   "metadata": {},
   "outputs": [
    {
     "name": "stdin",
     "output_type": "stream",
     "text": [
      "enter the breadth: 12\n",
      "enter the height: 34\n"
     ]
    },
    {
     "name": "stdout",
     "output_type": "stream",
     "text": [
      "area of triangle is 204.0\n"
     ]
    }
   ],
   "source": [
    "def area1():\n",
    "    b=eval(input(\"enter the breadth:\"))\n",
    "    h=eval(input(\"enter the height:\"))\n",
    "    triangle=0.5*b*h\n",
    "    print(f\"area of triangle is {triangle}\")\n",
    "    return(area)\n",
    "traingle=area1()"
   ]
  },
  {
   "cell_type": "code",
   "execution_count": 27,
   "id": "ff4d6ae1-94ab-4cef-8dbf-2ac1701278da",
   "metadata": {},
   "outputs": [],
   "source": [
    "# 5) create a function ask the user calculate even or odd"
   ]
  },
  {
   "cell_type": "code",
   "execution_count": 28,
   "id": "ae8398bb-4ef3-4fbd-80d2-376d31910a2d",
   "metadata": {},
   "outputs": [
    {
     "name": "stdin",
     "output_type": "stream",
     "text": [
      "enter a number: 2\n"
     ]
    },
    {
     "name": "stdout",
     "output_type": "stream",
     "text": [
      "the 2 is even\n"
     ]
    }
   ],
   "source": [
    "def number1():\n",
    "    num=eval(input(\"enter a number:\"))\n",
    "    if num%2==0:\n",
    "        print(f\"the {num} is even\")\n",
    "    else:\n",
    "        print(f\"the {num} is odd\")\n",
    "    return(num)\n",
    "num=number1()"
   ]
  },
  {
   "cell_type": "code",
   "execution_count": 29,
   "id": "4fa6c204-d47f-4c02-8baf-06f007c3ca13",
   "metadata": {},
   "outputs": [],
   "source": [
    "#6)write a programm enter 3 numbers  find the greatest number"
   ]
  },
  {
   "cell_type": "code",
   "execution_count": 34,
   "id": "59776564-ab15-4fcb-8282-0705847d3d8e",
   "metadata": {},
   "outputs": [
    {
     "name": "stdin",
     "output_type": "stream",
     "text": [
      "enter a first number: 12\n",
      "enter a second number: 34\n",
      "enter a third number: 45\n"
     ]
    },
    {
     "name": "stdout",
     "output_type": "stream",
     "text": [
      "45 is  greatest number\n"
     ]
    }
   ],
   "source": [
    "def number12():\n",
    "    num1=eval(input(\"enter a first number:\"))\n",
    "    num2=eval(input(\"enter a second number:\"))\n",
    "    num3=eval(input(\"enter a third number:\"))\n",
    "    if num1>num2:\n",
    "        print(f\"{num1} is  greatest number\")\n",
    "    elif num2>num3:\n",
    "        print(f\"{num2} is  greatest number\")\n",
    "    else:\n",
    "        print(f\"{num3} is  greatest number\")\n",
    "    return(num)\n",
    "num=number12()"
   ]
  },
  {
   "cell_type": "code",
   "execution_count": 32,
   "id": "169f0456-1060-427b-8da3-ef2ef5b7d989",
   "metadata": {},
   "outputs": [],
   "source": [
    "# 7) create a function ask the user enter number find it is positive or negative or zero"
   ]
  },
  {
   "cell_type": "code",
   "execution_count": 33,
   "id": "32f5f972-47ad-415c-bdb5-2a125a4c8dad",
   "metadata": {},
   "outputs": [
    {
     "name": "stdin",
     "output_type": "stream",
     "text": [
      "enter a number: 2\n"
     ]
    },
    {
     "name": "stdout",
     "output_type": "stream",
     "text": [
      "the 2 is a positive number\n"
     ]
    }
   ],
   "source": [
    "def number111():\n",
    "    num=eval(input('enter a number:'))\n",
    "    if(num>0):\n",
    "        print(f'the {num} is a positive number')\n",
    "    elif(num==0):\n",
    "        print(f'{num} is a zero')\n",
    "    else:\n",
    "        print(f'{num} is a negative number')\n",
    "    return(num)\n",
    "num=number111()"
   ]
  },
  {
   "cell_type": "code",
   "execution_count": null,
   "id": "87de7937-8939-4a8c-94a7-0d9cfa7bfd1d",
   "metadata": {},
   "outputs": [],
   "source": []
  }
 ],
 "metadata": {
  "kernelspec": {
   "display_name": "Python 3 (ipykernel)",
   "language": "python",
   "name": "python3"
  },
  "language_info": {
   "codemirror_mode": {
    "name": "ipython",
    "version": 3
   },
   "file_extension": ".py",
   "mimetype": "text/x-python",
   "name": "python",
   "nbconvert_exporter": "python",
   "pygments_lexer": "ipython3",
   "version": "3.11.7"
  }
 },
 "nbformat": 4,
 "nbformat_minor": 5
}
