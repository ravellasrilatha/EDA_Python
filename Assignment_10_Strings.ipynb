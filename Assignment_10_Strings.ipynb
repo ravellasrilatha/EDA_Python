{
 "cells": [
  {
   "cell_type": "code",
   "execution_count": 1,
   "id": "8f2c3374-cc16-4b94-92c0-69912f4af24b",
   "metadata": {},
   "outputs": [
    {
     "name": "stdin",
     "output_type": "stream",
     "text": [
      "Enter a string: python\n"
     ]
    },
    {
     "name": "stdout",
     "output_type": "stream",
     "text": [
      "The total number of characters string is : 6\n"
     ]
    }
   ],
   "source": [
    "# 1. Write a program that asks the user to enter a string. The program should then print the following:\n",
    "# (a) The total number of characters in the string\n",
    "\n",
    "str1=input(\"Enter a string:\")\n",
    "total_characters=(len(str1))\n",
    "print(f\"The total number of characters string is : {total_characters}\")\n",
    "    "
   ]
  },
  {
   "cell_type": "code",
   "execution_count": 2,
   "id": "febc6dda-7d34-483d-ac32-327dce02931f",
   "metadata": {},
   "outputs": [
    {
     "name": "stdin",
     "output_type": "stream",
     "text": [
      "Enter a string: python\n"
     ]
    },
    {
     "name": "stdout",
     "output_type": "stream",
     "text": [
      "The string repeated 10 times is : pythonpythonpythonpythonpythonpythonpythonpythonpythonpython\n"
     ]
    }
   ],
   "source": [
    "# (b) The string repeated 10 times\n",
    "\n",
    "str1=input(\"Enter a string:\")\n",
    "repeated=str1*10\n",
    "print(f\"The string repeated 10 times is : {repeated}\")\n"
   ]
  },
  {
   "cell_type": "code",
   "execution_count": 3,
   "id": "2cbaac92-bb1a-4dac-b5c9-1c6d072be162",
   "metadata": {},
   "outputs": [
    {
     "name": "stdin",
     "output_type": "stream",
     "text": [
      "Enter a string: python\n"
     ]
    },
    {
     "name": "stdout",
     "output_type": "stream",
     "text": [
      "first character of the string is: p\n"
     ]
    }
   ],
   "source": [
    "# (c) The first character of the string (remember that string indices start at 0)\n",
    "\n",
    "str1=input(\"Enter a string:\")\n",
    "if len(str1)==0:\n",
    "    print(\"string is empty\")\n",
    "else:\n",
    "    print(f\"first character of the string is: {str1[0]}\")"
   ]
  },
  {
   "cell_type": "code",
   "execution_count": 4,
   "id": "529a4751-5d90-401a-b06e-49864b33d633",
   "metadata": {},
   "outputs": [
    {
     "name": "stdin",
     "output_type": "stream",
     "text": [
      "Enter a string: python\n"
     ]
    },
    {
     "name": "stdout",
     "output_type": "stream",
     "text": [
      "first three character of the string is: pyt\n"
     ]
    }
   ],
   "source": [
    "# (d) The first three characters of the string\n",
    "\n",
    "str1=input(\"Enter a string:\")\n",
    "if len(str1)==0:\n",
    "    print(\"string is empty\")\n",
    "else:\n",
    "    print(f\"first three character of the string is: {str1[0:3]}\")"
   ]
  },
  {
   "cell_type": "code",
   "execution_count": 5,
   "id": "d45c3277-954c-4b1b-9455-2e2fedcda0f9",
   "metadata": {},
   "outputs": [
    {
     "name": "stdin",
     "output_type": "stream",
     "text": [
      "Enter a string: python\n"
     ]
    },
    {
     "name": "stdout",
     "output_type": "stream",
     "text": [
      "The last three characters of the string are: hon\n"
     ]
    }
   ],
   "source": [
    "# (e) The last three characters of the string\n",
    "\n",
    "string=input(\"Enter a string:\")\n",
    "if len(string) >= 3:\n",
    "        print(\"The last three characters of the string are:\", string[-3:])\n",
    "else:\n",
    "    print(\"The string has some of the three characters, they are:\", string)"
   ]
  },
  {
   "cell_type": "code",
   "execution_count": 74,
   "id": "842fa785-f266-4784-b4f0-0b019fb77cb3",
   "metadata": {},
   "outputs": [
    {
     "name": "stdout",
     "output_type": "stream",
     "text": [
      "n\n",
      "o\n",
      "h\n",
      "t\n",
      "y\n",
      "p\n"
     ]
    }
   ],
   "source": [
    "# (f) The string backwards\n",
    "\n",
    "str1=reversed('python')\n",
    "for i in str1:\n",
    "    print(i)"
   ]
  },
  {
   "cell_type": "code",
   "execution_count": 85,
   "id": "ac570b4c-b031-4f83-9c1c-23e06c09146b",
   "metadata": {},
   "outputs": [
    {
     "name": "stdin",
     "output_type": "stream",
     "text": [
      "Enter a string: Hello Python\n"
     ]
    },
    {
     "name": "stdout",
     "output_type": "stream",
     "text": [
      "The seventh character of the string are: P\n"
     ]
    }
   ],
   "source": [
    "# (g) The seventh character of the string if the string is long enough and a message otherwise\n",
    "\n",
    "\n",
    "string=input(\"Enter a string:\")\n",
    "if len(string)>= 7:\n",
    "        print(\"The seventh character of the string are:\", string[6])\n",
    "else:\n",
    "    print(\"string is long enough and a message otherwise\")"
   ]
  },
  {
   "cell_type": "code",
   "execution_count": 91,
   "id": "ad639ed1-38db-4d28-b9c1-7664265d9c0e",
   "metadata": {},
   "outputs": [
    {
     "name": "stdin",
     "output_type": "stream",
     "text": [
      "Enter a string: python\n"
     ]
    },
    {
     "name": "stdout",
     "output_type": "stream",
     "text": [
      "The first and last characters removed is: ytho\n"
     ]
    }
   ],
   "source": [
    "# (h) The string with its first and last characters removed\n",
    "\n",
    "string=input(\"Enter a string:\")\n",
    "if len(string)>=2:\n",
    "        print(\"The first and last characters removed is:\", string[1:-1])\n",
    "else:\n",
    "    print(\"The string has some of the three characters, they are:\", string)\n"
   ]
  },
  {
   "cell_type": "code",
   "execution_count": 96,
   "id": "438bc703-1281-4c9c-ba46-e629db76c026",
   "metadata": {},
   "outputs": [
    {
     "data": {
      "text/plain": [
       "'PYTHON'"
      ]
     },
     "execution_count": 96,
     "metadata": {},
     "output_type": "execute_result"
    }
   ],
   "source": [
    "# (i) The string in all caps\n",
    "\n",
    "str.upper('python')"
   ]
  },
  {
   "cell_type": "code",
   "execution_count": 98,
   "id": "b5b3a483-9a60-40a2-a601-acd2a98a2cfe",
   "metadata": {},
   "outputs": [
    {
     "data": {
      "text/plain": [
       "'lenguege'"
      ]
     },
     "execution_count": 98,
     "metadata": {},
     "output_type": "execute_result"
    }
   ],
   "source": [
    "# (j) The string with every a replaced with an e\n",
    "str='language'\n",
    "str.replace('a','e')\n"
   ]
  },
  {
   "cell_type": "code",
   "execution_count": 11,
   "id": "7ed11060-6fd9-41b7-a264-39aaa0952598",
   "metadata": {},
   "outputs": [
    {
     "name": "stdin",
     "output_type": "stream",
     "text": [
      "Enter a string: my name is sri latha\n"
     ]
    },
    {
     "name": "stdout",
     "output_type": "stream",
     "text": [
      "4\n"
     ]
    }
   ],
   "source": [
    "# Q2) A simple way to estimate the number of words in a string is to count the number of spaces in the\n",
    "# string. Write a program that asks the user for a string and returns an estimate of how many words are in the string.\n",
    "# Tip: You need to count the number of words using spaces\n",
    "\n",
    "str=input(\"Enter a string:\")\n",
    "count=0\n",
    "for i in str:\n",
    "    if i.isspace():\n",
    "        count+=1\n",
    "print(count)"
   ]
  },
  {
   "cell_type": "code",
   "execution_count": 1,
   "id": "ba046488-1793-4cd9-ab16-8065a8b1e075",
   "metadata": {},
   "outputs": [
    {
     "name": "stdin",
     "output_type": "stream",
     "text": [
      "Enter the string: Qbert\n"
     ]
    },
    {
     "name": "stdout",
     "output_type": "stream",
     "text": [
      "Q*ert!!!\n"
     ]
    }
   ],
   "source": [
    "# Q5)Write a program that asks the user to enter a string. The program should create a new string\n",
    "# called new_string from the user’s string such that the second character is changed to an asterisk and\n",
    "# three exclamation points are attached to the end of the string. Finally, print new_string.\n",
    "\n",
    "\n",
    "string=input(\"Enter the string:\")\n",
    "new_string = string[0] + '*' + string[2:] + '!!!'\n",
    "print(new_string)\n"
   ]
  },
  {
   "cell_type": "code",
   "execution_count": 7,
   "id": "890eb783-57b8-4660-917e-e333ffeb0a28",
   "metadata": {},
   "outputs": [
    {
     "name": "stdin",
     "output_type": "stream",
     "text": [
      "Enter a word: level\n"
     ]
    },
    {
     "name": "stdout",
     "output_type": "stream",
     "text": [
      "The given word is palindrome\n"
     ]
    }
   ],
   "source": [
    "# Q6) Write a program that asks the user to enter a word and determines whether the word is a\n",
    "# palindrome or not. A palindrome is a word that reads the same backwards as forwards\n",
    "\n",
    "word=input(\"Enter a word:\")\n",
    "if word==word[::-1]:\n",
    "    print(\"The given word is palindrome\")\n",
    "else:\n",
    "    print(\"The given word is not a palindrome\")"
   ]
  },
  {
   "cell_type": "code",
   "execution_count": 17,
   "id": "7d51f906-8a67-4108-93a7-8083ecdf8172",
   "metadata": {},
   "outputs": [
    {
     "name": "stdin",
     "output_type": "stream",
     "text": [
      "Enter a string:  HEY\n"
     ]
    },
    {
     "name": "stdout",
     "output_type": "stream",
     "text": [
      "HH\n",
      "EE\n",
      "YY\n"
     ]
    }
   ],
   "source": [
    "# 8) Write a program that asks the user to enter a string, then prints out each letter of the string doubled and on a \n",
    "# separate line. For instance,\n",
    "# if the user entered HEY,\n",
    "# the output would be\n",
    "# HH\n",
    "# EE\n",
    "# YY\n",
    "\n",
    "string = input(\"Enter a string: \")\n",
    "for i in string:\n",
    "     print(i * 2)"
   ]
  },
  {
   "cell_type": "code",
   "execution_count": 7,
   "id": "90ddad8d-d987-43f7-b756-7bf4cbb9aab2",
   "metadata": {},
   "outputs": [
    {
     "name": "stdin",
     "output_type": "stream",
     "text": [
      "Enter a string: rhinoceros\n"
     ]
    },
    {
     "name": "stdout",
     "output_type": "stream",
     "text": [
      "rHiNoCeRoS\n"
     ]
    }
   ],
   "source": [
    "# 10. Write a program that asks the user to enter a word and then capitalizes every other letter of that word.\n",
    "# So if the user enters rhinoceros,\n",
    "# the program should print rHiNoCeRoS.\n",
    "\n",
    "s=input(\"Enter a string:\")\n",
    "s1=''\n",
    "for i in range(0,len(s)):\n",
    "    if i%2==0:\n",
    "        s1+=s[i].lower()\n",
    "    else:\n",
    "        s1+=s[i].upper()\n",
    "print(s1)"
   ]
  },
  {
   "cell_type": "code",
   "execution_count": 13,
   "id": "a627da56-cc8c-425f-88e6-068dc6cb3d1c",
   "metadata": {},
   "outputs": [
    {
     "name": "stdin",
     "output_type": "stream",
     "text": [
      "Enter a string python\n"
     ]
    },
    {
     "name": "stdout",
     "output_type": "stream",
     "text": [
      "The word entered is: python\n",
      "The vowels in the given word\n",
      "o\n"
     ]
    }
   ],
   "source": [
    "# 3.Write a program that asks the user to enter a word and prints out whether that word contains any\n",
    "# vowels.\n",
    "word=input(\"Enter a string\")\n",
    "print(\"The word entered is:\", word)\n",
    "print(\"The vowels in the given word\")\n",
    "for letter in word:\n",
    "    if(letter=='a' or letter=='e' or letter=='i' or letter=='o' or letter=='u' or letter=='A' \n",
    "       or letter=='E' or letter=='I' or letter=='O' or letter=='U'):\n",
    "        print(letter)"
   ]
  },
  {
   "cell_type": "code",
   "execution_count": 38,
   "id": "92fb31d2-925b-4f70-b0b0-bcbf66384fe0",
   "metadata": {},
   "outputs": [
    {
     "name": "stdin",
     "output_type": "stream",
     "text": [
      "Enter a word: hello\n"
     ]
    },
    {
     "name": "stdout",
     "output_type": "stream",
     "text": [
      "unique vowels in the string: ['h', 'i', ' ', 'h', 'o']\n"
     ]
    }
   ],
   "source": [
    "# 4. Improvise above code by providing unique vowels\n",
    "\n",
    "str1=input(\"Enter a word:\")\n",
    "unique_vowels=[]\n",
    "for i in range(len(str1)):\n",
    "    if str1[i] not in unique_vowels:\n",
    "        unique_vowels.append(str[i])\n",
    "print(\"unique vowels in the string:\",unique_vowels)\n",
    "        \n"
   ]
  },
  {
   "cell_type": "code",
   "execution_count": 20,
   "id": "5ab25bfd-bf7c-44fb-b83f-2b9742ab1b62",
   "metadata": {},
   "outputs": [
    {
     "name": "stdin",
     "output_type": "stream",
     "text": [
      "Enter first string: abcde\n",
      "Enter second string: ABCDE\n"
     ]
    },
    {
     "name": "stdout",
     "output_type": "stream",
     "text": [
      "The strings are of same length\n",
      "AaBbCcDdEe\n"
     ]
    }
   ],
   "source": [
    "# Q11) Write a program that asks the user to enter two strings of the same length. The program should\n",
    "# then check to see if the strings are of the same length. If they are not, the program should print an\n",
    "# appropriate message and exit. If they are of the same length, the program should alternate the\n",
    "# characters of the two strings. For example,\n",
    "# if the user enters abcde and ABCDE\n",
    "# the program should print out AaBbCcDdEe.\n",
    "\n",
    "\n",
    "s1=input(\"Enter first string:\")\n",
    "s2=input(\"Enter second string:\")\n",
    "if len(s1)==len(s2):\n",
    "    print(\"The strings are of same length\")\n",
    "    result=''\n",
    "    for i in range(len(s1)):\n",
    "        result=result+(s2[i]+s1[i])\n",
    "    print(result)\n",
    "else:\n",
    "    print(\"The strings are different length:\")\n",
    "        "
   ]
  },
  {
   "cell_type": "code",
   "execution_count": 32,
   "id": "5cf8bf66-59bb-45a7-a467-c7ba7a6b7f9e",
   "metadata": {},
   "outputs": [
    {
     "name": "stdin",
     "output_type": "stream",
     "text": [
      "Enter the name in lowercase: sri latha\n"
     ]
    },
    {
     "name": "stdout",
     "output_type": "stream",
     "text": [
      "Sri Latha\n"
     ]
    }
   ],
   "source": [
    "# Q12) Write a program that asks the user to enter their name in lowercase and then capitalizes \n",
    "# the first letter of each word of their name.\n",
    "\n",
    "name=input(\"Enter the name in lowercase:\")\n",
    "print(name.title())"
   ]
  },
  {
   "cell_type": "code",
   "execution_count": 35,
   "id": "d31ad729-0a1b-4d5c-bc99-fa7299eb37b6",
   "metadata": {},
   "outputs": [
    {
     "name": "stdin",
     "output_type": "stream",
     "text": [
      "Enter a string: string\n"
     ]
    },
    {
     "name": "stdout",
     "output_type": "stream",
     "text": [
      "stringly\n"
     ]
    }
   ],
   "source": [
    "#Q15) Write a Python program to add 'ing'  at the end of a given string (length should be at least 3). If the\n",
    "# given string already ends with 'ing' then add 'ly' instead.\n",
    "# If the string length of the given string is less than 3, leave it unchanged.\n",
    "# Go to the editor\n",
    "# Sample String : 'abc'\n",
    "# Expected Result :'abcing'\n",
    "# Sample String : 'string'\n",
    "# Expected Result : 'stringly'\n",
    "\n",
    "\n",
    "s=input(\"Enter a string:\")\n",
    "if len(s)<3:\n",
    "    print(s)\n",
    "elif s[-3:]== 'ing':\n",
    "    print(s + \"ly\" )\n",
    "else:\n",
    "    print(s + \"ing\")\n",
    "    "
   ]
  },
  {
   "cell_type": "code",
   "execution_count": 15,
   "id": "4abd0b44-deef-47ef-a845-1ce729edac1e",
   "metadata": {},
   "outputs": [
    {
     "name": "stdin",
     "output_type": "stream",
     "text": [
      "enter a word: buffalo\n"
     ]
    },
    {
     "name": "stdout",
     "output_type": "stream",
     "text": [
      "first line should be the part of the string up to a is: buffa\n",
      "second line should be the rest of the string is: lo\n"
     ]
    }
   ],
   "source": [
    "# Q9) 9.Write a program that asks the user to enter a word that contains the letter a. The program should\n",
    "    # then print the following two lines: On the first line should be the part of the string up to and\n",
    "    # including the the first a, and on the second line should be the rest of the string.\n",
    "    # Sample output is shown below:\n",
    "    # Enter a word: buffalo\n",
    "    # buffa\n",
    "    # lo\n",
    "\n",
    "string=input(\"enter a word:\")\n",
    "len=string.find('a')\n",
    "if len !=-1:\n",
    "    print(\"first line should be the part of the string up to a is:\", string[:len + 1])\n",
    "    print(\"second line should be the rest of the string is:\", string[len + 1:])\n",
    "else:\n",
    "    print(\"the word does not contain letter 'a'\")"
   ]
  },
  {
   "cell_type": "code",
   "execution_count": 17,
   "id": "9fb2bd3e-511a-4be5-8692-e1477abac50f",
   "metadata": {},
   "outputs": [
    {
     "name": "stdin",
     "output_type": "stream",
     "text": [
      "enter a string: hello world\n",
      "enter a letter count: o\n"
     ]
    },
    {
     "name": "stdout",
     "output_type": "stream",
     "text": [
      "The letter 'o' occurs 2 times in the string.\n"
     ]
    }
   ],
   "source": [
    "# Q13)(b) Without using the count method, write a program that asks the user for a string and a\n",
    "#letter and counts how many occurrences there are of the letter in the string.\n",
    "\n",
    "str1=input(\"enter a string:\")\n",
    "letter=input(\"enter a letter count:\")\n",
    "count=0\n",
    "for i in str1:\n",
    "    if i==letter:\n",
    "        count=count+1\n",
    "print(f\"The letter '{letter}' occurs {count} times in the string.\")"
   ]
  },
  {
   "cell_type": "code",
   "execution_count": null,
   "id": "9615659a-3bb1-442c-829a-ce9b9a0d32b7",
   "metadata": {},
   "outputs": [],
   "source": []
  }
 ],
 "metadata": {
  "kernelspec": {
   "display_name": "Python 3 (ipykernel)",
   "language": "python",
   "name": "python3"
  },
  "language_info": {
   "codemirror_mode": {
    "name": "ipython",
    "version": 3
   },
   "file_extension": ".py",
   "mimetype": "text/x-python",
   "name": "python",
   "nbconvert_exporter": "python",
   "pygments_lexer": "ipython3",
   "version": "3.11.7"
  }
 },
 "nbformat": 4,
 "nbformat_minor": 5
}
